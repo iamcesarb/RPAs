{
 "cells": [
  {
   "cell_type": "code",
   "execution_count": 1,
   "source": [
    "from Scripts import Download_ALG_TPInteract\r\n",
    "from Scripts.Update_ALG_TPInteract import main\r\n",
    "from datetime import datetime, timedelta, date\r\n",
    "import time\r\n",
    "\r\n",
    "\r\n",
    "#Este codigo descarga, procesa y actualiza la base de datos de ALG TP Interact. [Analytics].[dbo].[ALG_TPInteract_CM]\r\n",
    "\r\n",
    "start_date = date(2023, 1, 1 ) \r\n",
    "end_date = date(2023, 6, 25)    # perhaps date.now()\r\n",
    "\r\n",
    "delta = end_date - start_date\r\n",
    "\r\n",
    "for i in range(delta.days + 1):\r\n",
    "    date = start_date + timedelta(days=i)\r\n",
    "    date =datetime.strftime(date, '%m/%d/%Y')\r\n",
    "    try:\r\n",
    "        Download_ALG_TPInteract.main(date, date)\r\n",
    "        main(date)\r\n",
    "    except:\r\n",
    "        pass"
   ],
   "outputs": [
    {
     "output_type": "stream",
     "name": "stderr",
     "text": [
      "C:\\Users\\bustossanchez.9\\AppData\\Roaming\\Python\\Python37\\site-packages\\pandas\\compat\\_optional.py:138: UserWarning: Pandas requires version '2.7.0' or newer of 'numexpr' (version '2.6.9' currently installed).\n",
      "  warnings.warn(msg, UserWarning)\n"
     ]
    }
   ],
   "metadata": {}
  },
  {
   "cell_type": "code",
   "execution_count": 1,
   "source": [
    "import selenium"
   ],
   "outputs": [],
   "metadata": {}
  },
  {
   "cell_type": "code",
   "execution_count": 2,
   "source": [
    "selenium.__version__"
   ],
   "outputs": [
    {
     "output_type": "execute_result",
     "data": {
      "text/plain": [
       "'4.7.2'"
      ]
     },
     "metadata": {},
     "execution_count": 2
    }
   ],
   "metadata": {}
  }
 ],
 "metadata": {
  "orig_nbformat": 4,
  "language_info": {
   "name": "python",
   "version": "3.7.3",
   "mimetype": "text/x-python",
   "codemirror_mode": {
    "name": "ipython",
    "version": 3
   },
   "pygments_lexer": "ipython3",
   "nbconvert_exporter": "python",
   "file_extension": ".py"
  },
  "kernelspec": {
   "name": "python3",
   "display_name": "Python 3.7.3 64-bit ('base': conda)"
  },
  "interpreter": {
   "hash": "b3ba2566441a7c06988d0923437866b63cedc61552a5af99d1f4fb67d367b25f"
  }
 },
 "nbformat": 4,
 "nbformat_minor": 2
}